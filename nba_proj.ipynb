{
  "nbformat": 4,
  "nbformat_minor": 0,
  "metadata": {
    "colab": {
      "name": "nba_proj.ipynb",
      "provenance": [],
      "collapsed_sections": []
    },
    "kernelspec": {
      "name": "python3",
      "display_name": "Python 3"
    },
    "language_info": {
      "name": "python"
    }
  },
  "cells": [
    {
      "cell_type": "code",
      "source": [
        "# Add a check if we run in google colab or locally in jupyter notebook\n",
        "run_in_colab = False\n",
        "if 'google.colab' in str(get_ipython()):\n",
        "    run_in_colab = True\n",
        "    print('Running on Colab')\n",
        "else:\n",
        "    print('Running locally on Jupyter')"
      ],
      "metadata": {
        "colab": {
          "base_uri": "https://localhost:8080/"
        },
        "id": "tEk3TvojT__C",
        "outputId": "52c86564-bec6-4a45-e61a-25ad821e972f"
      },
      "execution_count": 11,
      "outputs": [
        {
          "output_type": "stream",
          "name": "stdout",
          "text": [
            "Running on Colab\n"
          ]
        }
      ]
    },
    {
      "cell_type": "markdown",
      "source": [
        "# New Section"
      ],
      "metadata": {
        "id": "KaUTWJ8MNeiV"
      }
    },
    {
      "cell_type": "code",
      "source": [
        "# Mount drive in google colab\n",
        "if run_in_colab:\n",
        "    from google.colab import drive\n",
        "    drive.mount('/content/drive')\n",
        "else:  # Set local path \n",
        "    data_path = \"/Users/elkysandor/Desktop/huji yr3/static lab/\""
      ],
      "metadata": {
        "id": "GWwBXj1KUHuV",
        "outputId": "63ee90ac-ebcc-4d4a-de14-e2fab32e3487",
        "colab": {
          "base_uri": "https://localhost:8080/"
        }
      },
      "execution_count": 12,
      "outputs": [
        {
          "output_type": "stream",
          "name": "stdout",
          "text": [
            "Drive already mounted at /content/drive; to attempt to forcibly remount, call drive.mount(\"/content/drive\", force_remount=True).\n"
          ]
        }
      ]
    },
    {
      "cell_type": "code",
      "source": [
        "if run_in_colab:\n",
        "    from google.colab import files\n",
        "    uploaded = files.upload()"
      ],
      "metadata": {
        "colab": {
          "base_uri": "https://localhost:8080/",
          "height": 109,
          "resources": {
            "http://localhost:8080/nbextensions/google.colab/files.js": {
              "data": "Ly8gQ29weXJpZ2h0IDIwMTcgR29vZ2xlIExMQwovLwovLyBMaWNlbnNlZCB1bmRlciB0aGUgQXBhY2hlIExpY2Vuc2UsIFZlcnNpb24gMi4wICh0aGUgIkxpY2Vuc2UiKTsKLy8geW91IG1heSBub3QgdXNlIHRoaXMgZmlsZSBleGNlcHQgaW4gY29tcGxpYW5jZSB3aXRoIHRoZSBMaWNlbnNlLgovLyBZb3UgbWF5IG9idGFpbiBhIGNvcHkgb2YgdGhlIExpY2Vuc2UgYXQKLy8KLy8gICAgICBodHRwOi8vd3d3LmFwYWNoZS5vcmcvbGljZW5zZXMvTElDRU5TRS0yLjAKLy8KLy8gVW5sZXNzIHJlcXVpcmVkIGJ5IGFwcGxpY2FibGUgbGF3IG9yIGFncmVlZCB0byBpbiB3cml0aW5nLCBzb2Z0d2FyZQovLyBkaXN0cmlidXRlZCB1bmRlciB0aGUgTGljZW5zZSBpcyBkaXN0cmlidXRlZCBvbiBhbiAiQVMgSVMiIEJBU0lTLAovLyBXSVRIT1VUIFdBUlJBTlRJRVMgT1IgQ09ORElUSU9OUyBPRiBBTlkgS0lORCwgZWl0aGVyIGV4cHJlc3Mgb3IgaW1wbGllZC4KLy8gU2VlIHRoZSBMaWNlbnNlIGZvciB0aGUgc3BlY2lmaWMgbGFuZ3VhZ2UgZ292ZXJuaW5nIHBlcm1pc3Npb25zIGFuZAovLyBsaW1pdGF0aW9ucyB1bmRlciB0aGUgTGljZW5zZS4KCi8qKgogKiBAZmlsZW92ZXJ2aWV3IEhlbHBlcnMgZm9yIGdvb2dsZS5jb2xhYiBQeXRob24gbW9kdWxlLgogKi8KKGZ1bmN0aW9uKHNjb3BlKSB7CmZ1bmN0aW9uIHNwYW4odGV4dCwgc3R5bGVBdHRyaWJ1dGVzID0ge30pIHsKICBjb25zdCBlbGVtZW50ID0gZG9jdW1lbnQuY3JlYXRlRWxlbWVudCgnc3BhbicpOwogIGVsZW1lbnQudGV4dENvbnRlbnQgPSB0ZXh0OwogIGZvciAoY29uc3Qga2V5IG9mIE9iamVjdC5rZXlzKHN0eWxlQXR0cmlidXRlcykpIHsKICAgIGVsZW1lbnQuc3R5bGVba2V5XSA9IHN0eWxlQXR0cmlidXRlc1trZXldOwogIH0KICByZXR1cm4gZWxlbWVudDsKfQoKLy8gTWF4IG51bWJlciBvZiBieXRlcyB3aGljaCB3aWxsIGJlIHVwbG9hZGVkIGF0IGEgdGltZS4KY29uc3QgTUFYX1BBWUxPQURfU0laRSA9IDEwMCAqIDEwMjQ7CgpmdW5jdGlvbiBfdXBsb2FkRmlsZXMoaW5wdXRJZCwgb3V0cHV0SWQpIHsKICBjb25zdCBzdGVwcyA9IHVwbG9hZEZpbGVzU3RlcChpbnB1dElkLCBvdXRwdXRJZCk7CiAgY29uc3Qgb3V0cHV0RWxlbWVudCA9IGRvY3VtZW50LmdldEVsZW1lbnRCeUlkKG91dHB1dElkKTsKICAvLyBDYWNoZSBzdGVwcyBvbiB0aGUgb3V0cHV0RWxlbWVudCB0byBtYWtlIGl0IGF2YWlsYWJsZSBmb3IgdGhlIG5leHQgY2FsbAogIC8vIHRvIHVwbG9hZEZpbGVzQ29udGludWUgZnJvbSBQeXRob24uCiAgb3V0cHV0RWxlbWVudC5zdGVwcyA9IHN0ZXBzOwoKICByZXR1cm4gX3VwbG9hZEZpbGVzQ29udGludWUob3V0cHV0SWQpOwp9CgovLyBUaGlzIGlzIHJvdWdobHkgYW4gYXN5bmMgZ2VuZXJhdG9yIChub3Qgc3VwcG9ydGVkIGluIHRoZSBicm93c2VyIHlldCksCi8vIHdoZXJlIHRoZXJlIGFyZSBtdWx0aXBsZSBhc3luY2hyb25vdXMgc3RlcHMgYW5kIHRoZSBQeXRob24gc2lkZSBpcyBnb2luZwovLyB0byBwb2xsIGZvciBjb21wbGV0aW9uIG9mIGVhY2ggc3RlcC4KLy8gVGhpcyB1c2VzIGEgUHJvbWlzZSB0byBibG9jayB0aGUgcHl0aG9uIHNpZGUgb24gY29tcGxldGlvbiBvZiBlYWNoIHN0ZXAsCi8vIHRoZW4gcGFzc2VzIHRoZSByZXN1bHQgb2YgdGhlIHByZXZpb3VzIHN0ZXAgYXMgdGhlIGlucHV0IHRvIHRoZSBuZXh0IHN0ZXAuCmZ1bmN0aW9uIF91cGxvYWRGaWxlc0NvbnRpbnVlKG91dHB1dElkKSB7CiAgY29uc3Qgb3V0cHV0RWxlbWVudCA9IGRvY3VtZW50LmdldEVsZW1lbnRCeUlkKG91dHB1dElkKTsKICBjb25zdCBzdGVwcyA9IG91dHB1dEVsZW1lbnQuc3RlcHM7CgogIGNvbnN0IG5leHQgPSBzdGVwcy5uZXh0KG91dHB1dEVsZW1lbnQubGFzdFByb21pc2VWYWx1ZSk7CiAgcmV0dXJuIFByb21pc2UucmVzb2x2ZShuZXh0LnZhbHVlLnByb21pc2UpLnRoZW4oKHZhbHVlKSA9PiB7CiAgICAvLyBDYWNoZSB0aGUgbGFzdCBwcm9taXNlIHZhbHVlIHRvIG1ha2UgaXQgYXZhaWxhYmxlIHRvIHRoZSBuZXh0CiAgICAvLyBzdGVwIG9mIHRoZSBnZW5lcmF0b3IuCiAgICBvdXRwdXRFbGVtZW50Lmxhc3RQcm9taXNlVmFsdWUgPSB2YWx1ZTsKICAgIHJldHVybiBuZXh0LnZhbHVlLnJlc3BvbnNlOwogIH0pOwp9CgovKioKICogR2VuZXJhdG9yIGZ1bmN0aW9uIHdoaWNoIGlzIGNhbGxlZCBiZXR3ZWVuIGVhY2ggYXN5bmMgc3RlcCBvZiB0aGUgdXBsb2FkCiAqIHByb2Nlc3MuCiAqIEBwYXJhbSB7c3RyaW5nfSBpbnB1dElkIEVsZW1lbnQgSUQgb2YgdGhlIGlucHV0IGZpbGUgcGlja2VyIGVsZW1lbnQuCiAqIEBwYXJhbSB7c3RyaW5nfSBvdXRwdXRJZCBFbGVtZW50IElEIG9mIHRoZSBvdXRwdXQgZGlzcGxheS4KICogQHJldHVybiB7IUl0ZXJhYmxlPCFPYmplY3Q+fSBJdGVyYWJsZSBvZiBuZXh0IHN0ZXBzLgogKi8KZnVuY3Rpb24qIHVwbG9hZEZpbGVzU3RlcChpbnB1dElkLCBvdXRwdXRJZCkgewogIGNvbnN0IGlucHV0RWxlbWVudCA9IGRvY3VtZW50LmdldEVsZW1lbnRCeUlkKGlucHV0SWQpOwogIGlucHV0RWxlbWVudC5kaXNhYmxlZCA9IGZhbHNlOwoKICBjb25zdCBvdXRwdXRFbGVtZW50ID0gZG9jdW1lbnQuZ2V0RWxlbWVudEJ5SWQob3V0cHV0SWQpOwogIG91dHB1dEVsZW1lbnQuaW5uZXJIVE1MID0gJyc7CgogIGNvbnN0IHBpY2tlZFByb21pc2UgPSBuZXcgUHJvbWlzZSgocmVzb2x2ZSkgPT4gewogICAgaW5wdXRFbGVtZW50LmFkZEV2ZW50TGlzdGVuZXIoJ2NoYW5nZScsIChlKSA9PiB7CiAgICAgIHJlc29sdmUoZS50YXJnZXQuZmlsZXMpOwogICAgfSk7CiAgfSk7CgogIGNvbnN0IGNhbmNlbCA9IGRvY3VtZW50LmNyZWF0ZUVsZW1lbnQoJ2J1dHRvbicpOwogIGlucHV0RWxlbWVudC5wYXJlbnRFbGVtZW50LmFwcGVuZENoaWxkKGNhbmNlbCk7CiAgY2FuY2VsLnRleHRDb250ZW50ID0gJ0NhbmNlbCB1cGxvYWQnOwogIGNvbnN0IGNhbmNlbFByb21pc2UgPSBuZXcgUHJvbWlzZSgocmVzb2x2ZSkgPT4gewogICAgY2FuY2VsLm9uY2xpY2sgPSAoKSA9PiB7CiAgICAgIHJlc29sdmUobnVsbCk7CiAgICB9OwogIH0pOwoKICAvLyBXYWl0IGZvciB0aGUgdXNlciB0byBwaWNrIHRoZSBmaWxlcy4KICBjb25zdCBmaWxlcyA9IHlpZWxkIHsKICAgIHByb21pc2U6IFByb21pc2UucmFjZShbcGlja2VkUHJvbWlzZSwgY2FuY2VsUHJvbWlzZV0pLAogICAgcmVzcG9uc2U6IHsKICAgICAgYWN0aW9uOiAnc3RhcnRpbmcnLAogICAgfQogIH07CgogIGNhbmNlbC5yZW1vdmUoKTsKCiAgLy8gRGlzYWJsZSB0aGUgaW5wdXQgZWxlbWVudCBzaW5jZSBmdXJ0aGVyIHBpY2tzIGFyZSBub3QgYWxsb3dlZC4KICBpbnB1dEVsZW1lbnQuZGlzYWJsZWQgPSB0cnVlOwoKICBpZiAoIWZpbGVzKSB7CiAgICByZXR1cm4gewogICAgICByZXNwb25zZTogewogICAgICAgIGFjdGlvbjogJ2NvbXBsZXRlJywKICAgICAgfQogICAgfTsKICB9CgogIGZvciAoY29uc3QgZmlsZSBvZiBmaWxlcykgewogICAgY29uc3QgbGkgPSBkb2N1bWVudC5jcmVhdGVFbGVtZW50KCdsaScpOwogICAgbGkuYXBwZW5kKHNwYW4oZmlsZS5uYW1lLCB7Zm9udFdlaWdodDogJ2JvbGQnfSkpOwogICAgbGkuYXBwZW5kKHNwYW4oCiAgICAgICAgYCgke2ZpbGUudHlwZSB8fCAnbi9hJ30pIC0gJHtmaWxlLnNpemV9IGJ5dGVzLCBgICsKICAgICAgICBgbGFzdCBtb2RpZmllZDogJHsKICAgICAgICAgICAgZmlsZS5sYXN0TW9kaWZpZWREYXRlID8gZmlsZS5sYXN0TW9kaWZpZWREYXRlLnRvTG9jYWxlRGF0ZVN0cmluZygpIDoKICAgICAgICAgICAgICAgICAgICAgICAgICAgICAgICAgICAgJ24vYSd9IC0gYCkpOwogICAgY29uc3QgcGVyY2VudCA9IHNwYW4oJzAlIGRvbmUnKTsKICAgIGxpLmFwcGVuZENoaWxkKHBlcmNlbnQpOwoKICAgIG91dHB1dEVsZW1lbnQuYXBwZW5kQ2hpbGQobGkpOwoKICAgIGNvbnN0IGZpbGVEYXRhUHJvbWlzZSA9IG5ldyBQcm9taXNlKChyZXNvbHZlKSA9PiB7CiAgICAgIGNvbnN0IHJlYWRlciA9IG5ldyBGaWxlUmVhZGVyKCk7CiAgICAgIHJlYWRlci5vbmxvYWQgPSAoZSkgPT4gewogICAgICAgIHJlc29sdmUoZS50YXJnZXQucmVzdWx0KTsKICAgICAgfTsKICAgICAgcmVhZGVyLnJlYWRBc0FycmF5QnVmZmVyKGZpbGUpOwogICAgfSk7CiAgICAvLyBXYWl0IGZvciB0aGUgZGF0YSB0byBiZSByZWFkeS4KICAgIGxldCBmaWxlRGF0YSA9IHlpZWxkIHsKICAgICAgcHJvbWlzZTogZmlsZURhdGFQcm9taXNlLAogICAgICByZXNwb25zZTogewogICAgICAgIGFjdGlvbjogJ2NvbnRpbnVlJywKICAgICAgfQogICAgfTsKCiAgICAvLyBVc2UgYSBjaHVua2VkIHNlbmRpbmcgdG8gYXZvaWQgbWVzc2FnZSBzaXplIGxpbWl0cy4gU2VlIGIvNjIxMTU2NjAuCiAgICBsZXQgcG9zaXRpb24gPSAwOwogICAgZG8gewogICAgICBjb25zdCBsZW5ndGggPSBNYXRoLm1pbihmaWxlRGF0YS5ieXRlTGVuZ3RoIC0gcG9zaXRpb24sIE1BWF9QQVlMT0FEX1NJWkUpOwogICAgICBjb25zdCBjaHVuayA9IG5ldyBVaW50OEFycmF5KGZpbGVEYXRhLCBwb3NpdGlvbiwgbGVuZ3RoKTsKICAgICAgcG9zaXRpb24gKz0gbGVuZ3RoOwoKICAgICAgY29uc3QgYmFzZTY0ID0gYnRvYShTdHJpbmcuZnJvbUNoYXJDb2RlLmFwcGx5KG51bGwsIGNodW5rKSk7CiAgICAgIHlpZWxkIHsKICAgICAgICByZXNwb25zZTogewogICAgICAgICAgYWN0aW9uOiAnYXBwZW5kJywKICAgICAgICAgIGZpbGU6IGZpbGUubmFtZSwKICAgICAgICAgIGRhdGE6IGJhc2U2NCwKICAgICAgICB9LAogICAgICB9OwoKICAgICAgbGV0IHBlcmNlbnREb25lID0gZmlsZURhdGEuYnl0ZUxlbmd0aCA9PT0gMCA/CiAgICAgICAgICAxMDAgOgogICAgICAgICAgTWF0aC5yb3VuZCgocG9zaXRpb24gLyBmaWxlRGF0YS5ieXRlTGVuZ3RoKSAqIDEwMCk7CiAgICAgIHBlcmNlbnQudGV4dENvbnRlbnQgPSBgJHtwZXJjZW50RG9uZX0lIGRvbmVgOwoKICAgIH0gd2hpbGUgKHBvc2l0aW9uIDwgZmlsZURhdGEuYnl0ZUxlbmd0aCk7CiAgfQoKICAvLyBBbGwgZG9uZS4KICB5aWVsZCB7CiAgICByZXNwb25zZTogewogICAgICBhY3Rpb246ICdjb21wbGV0ZScsCiAgICB9CiAgfTsKfQoKc2NvcGUuZ29vZ2xlID0gc2NvcGUuZ29vZ2xlIHx8IHt9OwpzY29wZS5nb29nbGUuY29sYWIgPSBzY29wZS5nb29nbGUuY29sYWIgfHwge307CnNjb3BlLmdvb2dsZS5jb2xhYi5fZmlsZXMgPSB7CiAgX3VwbG9hZEZpbGVzLAogIF91cGxvYWRGaWxlc0NvbnRpbnVlLAp9Owp9KShzZWxmKTsK",
              "ok": true,
              "headers": [
                [
                  "content-type",
                  "application/javascript"
                ]
              ],
              "status": 200,
              "status_text": ""
            }
          }
        },
        "id": "8g7G9hNZUKsv",
        "outputId": "fb57f588-fecf-44fb-e546-f47a75ca00d6"
      },
      "execution_count": 14,
      "outputs": [
        {
          "output_type": "display_data",
          "data": {
            "text/plain": [
              "<IPython.core.display.HTML object>"
            ],
            "text/html": [
              "\n",
              "     <input type=\"file\" id=\"files-17c0bcf5-7188-4f2b-bdd7-aa1d05a056c3\" name=\"files[]\" multiple disabled\n",
              "        style=\"border:none\" />\n",
              "     <output id=\"result-17c0bcf5-7188-4f2b-bdd7-aa1d05a056c3\">\n",
              "      Upload widget is only available when the cell has been executed in the\n",
              "      current browser session. Please rerun this cell to enable.\n",
              "      </output>\n",
              "      <script src=\"/nbextensions/google.colab/files.js\"></script> "
            ]
          },
          "metadata": {}
        },
        {
          "output_type": "stream",
          "name": "stdout",
          "text": [
            "Saving nba_data _21.csv to nba_data _21 (2).csv\n",
            "Saving nba_data_20.csv to nba_data_20 (1).csv\n"
          ]
        }
      ]
    },
    {
      "cell_type": "code",
      "source": [
        "from statsmodels.distributions.empirical_distribution import ECDF\n",
        "from sklearn.decomposition import PCA\n",
        "from sklearn.preprocessing import normalize\n",
        "import numpy as np  # a module for working with numerical array \n",
        "import pandas as pd  # a module for working with data-frames\n",
        "import statsmodels.api as sm  # a module for statistical modelling (e.g. regression analysis)\n",
        "from sklearn.linear_model import LinearRegression\n",
        "from matplotlib import pyplot as plt\n",
        "from scipy.optimize import nnls\n",
        "import seaborn as sns\n",
        "import datetime\n",
        "import scipy\n",
        "import time\n",
        "import sys\n",
        "import io"
      ],
      "metadata": {
        "id": "ABanymTTUuhK",
        "colab": {
          "base_uri": "https://localhost:8080/"
        },
        "outputId": "58c59853-ed6e-4776-faab-e0698e8974f3"
      },
      "execution_count": null,
      "outputs": [
        {
          "output_type": "stream",
          "name": "stderr",
          "text": [
            "/usr/local/lib/python3.7/dist-packages/statsmodels/tools/_testing.py:19: FutureWarning: pandas.util.testing is deprecated. Use the functions in the public API at pandas.testing instead.\n",
            "  import pandas.util.testing as tm\n"
          ]
        }
      ]
    },
    {
      "cell_type": "code",
      "source": [
        "def date_to_datetime(df):\n",
        "  df.rename(columns={'game date': 'date'},inplace=True)\n",
        "  df.date = pd.to_datetime(df.date)\n",
        "\n",
        "def design_data_frame(df):\n",
        "  to_drop = [\"team name\",\"game visitor_team_score\",\"team division\", \"game_id\",\n",
        "             \"minute_in_game\", \"player_fouls\", \"game home_team_id\", \"game home_team_score\",\n",
        "             \"game period\",\"game postseason\",\"game season\",\"game status\",\"game time\",\n",
        "             \"game visitor_team_id\",\"player height_feet\",\"player height_inches\",\"player team_id\",\n",
        "             \"player height_feet\",\"player height_inches\",\"player team_id\",\"player weight_pounds\",\n",
        "             \"team id\",\"team full_name\",\"team city\",\"team abbreviation\",\"team conference\",\"player\"\n",
        "             ,\"game id\",\"player_defensive_rebounds\",\"player_offensive_rebounds\",\"player_field_three_pointer_percentage\",\n",
        "             \"player_field_three_pointers_attempted\",\"player_free_throw_percentage\",\"player_field_goals_percentage\",\n",
        "             \"player first_name\",\"player last_name\"]\n",
        "  df[\"name\"] = df[\"player first_name\"].astype(str) + \" \" + df_2021_nba[\"player last_name\"].astype(str)\n",
        "  df.drop(columns = to_drop,inplace=True)  \n",
        "\n",
        "\n",
        "def calculate_data(df):\n",
        "  to_filter = [\"date\", \"player id\", \"fantasy_week\"]\n",
        "  numeric_buckets = df.loc[:,~(df.columns.isin(to_filter))]\n",
        "  agg_df = numeric_buckets.groupby(by = [\"week_bucket\",\"name\"]).agg(sum)\n",
        "  agg_df[\"fg_perc\"] = agg_df[[\"player_field_goal_attempts\",\"player_field_goal_made\"]].apply(lambda x : (x.player_field_goal_made/x.player_field_goal_attempts)*100 if x.player_field_goal_attempts != 0 else 0,axis=1)\n",
        "  agg_df[\"ft_perc\"] = agg_df[[\"player_free_throws_attempted\",\"player_free_throws_made\"]].apply(lambda x : (x.player_free_throws_made/x.player_free_throws_attempted)*100 if x.player_free_throws_attempted != 0 else 0,axis=1)\n",
        "  # agg_df.drop(columns=[\"player_field_goal_attempts\", \"player_free_throws_attempted\"],inplace=True) \n",
        "  return(agg_df)\n",
        "\n",
        "def cdf_per_col(col):\n",
        "  # print(f\" {col.loc[1,:]} and {col.index}\")\n",
        "  func_col = col.groupby(level=0).agg(ECDF)\n",
        "  # print(func_col.index)\n",
        "  return pd.Series([func_col.loc[i](col.loc[i,:]).round(4) for i in range(1,24)])\n",
        "\n",
        "\n",
        "def precentages_dat(df,cdf_df):\n",
        "  for i,j in [(\"fg_perc\",\"player_field_goal_attempts\"),(\"ft_perc\",\"player_free_throws_attempted\")]:\n",
        "    perc_rating = cdf_df[i] * df[j].values\n",
        "    avg =(perc_rating.loc[df[j]!=0]).median()\n",
        "    perc_rating.loc[df[j]==0] = avg\n",
        "    col_name = '_'.join(j.split(\"_\")[1:3]) + \"_rating\"\n",
        "    df[col_name] = perc_rating\n",
        "  return df\n",
        "\n",
        "def normalized_df(df,drop_normalized=None):\n",
        "  to_normalize = df.groupby(level=0).max()\n",
        "  df.turnover = to_normalize.turnover-df.turnover\n",
        "  normalized = df.div(to_normalize,level = 0)\n",
        "  normalized = normalized*100\n",
        "  wnated_norm = normalized.drop(columns = drop_normalized)\n",
        "  return(wnated_norm)\n",
        "\n",
        "def by_time_rating(df,period : str):\n",
        "  df_mean = df.mean(axis=1)\n",
        "  if period == \"W\" or period == \"w\":\n",
        "    final = df_mean.groupby(level=[0,1]).agg(np.mean).sort_values(ascending=False)\n",
        "  elif  period == \"Y\" or period == \"y\":  \n",
        "    final = df_mean.groupby(level=1).agg(np.mean).sort_values(ascending=False)\n",
        "  else :\n",
        "    print(\"please choose y for year or w for week\")\n",
        "    raise ValueError()\n",
        "  print(df_mean)    \n",
        "  return(final)\n",
        "\n",
        "\n",
        "def pipeline(df):\n",
        "  agg_stat = calculate_data(df_2021_nba)\n",
        "  perc_cdf = agg_stat[[\"fg_perc\",\"ft_perc\"]].apply(cdf_per_col,axis=0)\n",
        "  perc_cdf_expand = perc_cdf.explode(list(perc_cdf.columns)).set_index(agg_stat.index.get_level_values(1),append=True)\n",
        "  new_idx = [(i+1,name)for i,name in perc_cdf_expand.index]\n",
        "  perc_cdf_expand.index = pd.MultiIndex.from_tuples(new_idx)\n",
        "  final_agg = precentages_dat(agg_stat,perc_cdf_expand)\n",
        "  norm_final_agg = normalized_df(final_agg, [\"fg_perc\",\"player_field_goal_attempts\",\"ft_perc\",\"player_free_throws_attempted\",\"player_field_goal_made\",\"player_free_throws_made\"])\n",
        "  final_rating = by_time_rating(norm_final_agg,\"y\")"
      ],
      "metadata": {
        "id": "5Q0KdwDrBwyL"
      },
      "execution_count": 86,
      "outputs": []
    },
    {
      "cell_type": "code",
      "source": [
        "df_2021_nba = pd.read_csv(io.BytesIO(uploaded['nba_data _21.csv']),  encoding = 'iso-8859-8')\n",
        "df_2020_nba = pd.read_csv(io.BytesIO(uploaded['nba_data_20.csv']),  encoding = 'iso-8859-8')"
      ],
      "metadata": {
        "colab": {
          "base_uri": "https://localhost:8080/"
        },
        "id": "fJY6bEHtVIxk",
        "outputId": "c504190a-c7d0-43eb-d066-2fd040491df2"
      },
      "execution_count": 87,
      "outputs": [
        {
          "output_type": "stream",
          "name": "stderr",
          "text": [
            "/usr/local/lib/python3.7/dist-packages/IPython/core/interactiveshell.py:2882: DtypeWarning: Columns (28) have mixed types.Specify dtype option on import or set low_memory=False.\n",
            "  exec(code_obj, self.user_global_ns, self.user_ns)\n"
          ]
        }
      ]
    },
    {
      "cell_type": "code",
      "source": [
        "date_to_datetime(df_2021_nba)\n",
        "date_to_datetime(df_2020_nba)"
      ],
      "metadata": {
        "id": "ZOjBIpbjc32N"
      },
      "execution_count": 88,
      "outputs": []
    },
    {
      "cell_type": "code",
      "source": [
        ""
      ],
      "metadata": {
        "colab": {
          "base_uri": "https://localhost:8080/"
        },
        "id": "DhZ6PpRGg5NJ",
        "outputId": "3c4b6c16-9cd4-4e7f-a001-5d3eed74e3d4"
      },
      "execution_count": 48,
      "outputs": [
        {
          "output_type": "stream",
          "name": "stderr",
          "text": [
            "/usr/local/lib/python3.7/dist-packages/ipykernel_launcher.py:1: FutureWarning: DataFrame.mean and DataFrame.median with numeric_only=None will include datetime64 and datetime64tz columns in a future version.\n",
            "  \"\"\"Entry point for launching an IPython kernel.\n",
            "/usr/local/lib/python3.7/dist-packages/ipykernel_launcher.py:1: FutureWarning: Dropping of nuisance columns in DataFrame reductions (with 'numeric_only=None') is deprecated; in a future version this will raise TypeError.  Select only valid columns before calling the reduction.\n",
            "  \"\"\"Entry point for launching an IPython kernel.\n"
          ]
        },
        {
          "output_type": "execute_result",
          "data": {
            "text/plain": [
              "0        2.641667e+01\n",
              "1        5.166667e+00\n",
              "2        2.150000e+01\n",
              "3        1.808333e+01\n",
              "4        2.858333e+01\n",
              "             ...     \n",
              "29933    5.557008e+04\n",
              "29934    5.554225e+04\n",
              "29935    1.491314e+06\n",
              "29936    3.708333e+01\n",
              "29937    1.683333e+01\n",
              "Length: 29938, dtype: float64"
            ]
          },
          "metadata": {},
          "execution_count": 48
        }
      ]
    },
    {
      "cell_type": "code",
      "source": [
        "# dates for 2021 - 23 weeks\n",
        "week1 = pd.interval_range(start=pd.Timestamp(\"2021-10-18\"),end=pd.Timestamp(\"2021-10-24\"),periods=1)\n",
        "before_all_star = pd.interval_range(start=pd.Timestamp(\"2021-10-24\"),end=pd.Timestamp(\"2022-02-13\"),freq=\"7D\")\n",
        "all_star_week = pd.interval_range(start=pd.Timestamp(\"2022-02-13\"),end=pd.Timestamp(\"2022-02-27\"),periods=1)\n",
        "after_all_star = pd.interval_range(start=pd.Timestamp(\"2022-02-27\"),end=pd.Timestamp(\"2022-04-03\"),freq=\"7D\")\n",
        "all_intervals = pd.IntervalIndex([interval for weaks in [week1,before_all_star,all_star_week,after_all_star] for interval in weaks])"
      ],
      "metadata": {
        "id": "6hdYlW-hdFCc"
      },
      "execution_count": 36,
      "outputs": []
    },
    {
      "cell_type": "code",
      "source": [
        "# dates for 2020 - 19 weeks\n",
        "week_1_20 = pd.interval_range(start=pd.Timestamp(\"2020-12-21\"),end=pd.Timestamp(\"2020-12-27\"),periods=1)\n",
        "before_all_star_20 = pd.interval_range(start=pd.Timestamp(\"2020-12-27\"),end=pd.Timestamp(\"2021-02-28\"),freq=\"7D\")\n",
        "all_star_20 = pd.interval_range(start=pd.Timestamp(\"2021-02-28\"),end=pd.Timestamp(\"2021-03-14\"),periods=1)\n",
        "after_all_star_20 = pd.interval_range(start=pd.Timestamp(\"2021-03-14\"),end=pd.Timestamp(\"2021-05-09\"),freq=\"7D\")\n",
        "all_intervals_20 = pd.IntervalIndex([interval for weaks in [week_1_20,before_all_star_20,all_star_20,after_all_star_20] for interval in weaks])"
      ],
      "metadata": {
        "id": "wOFVYHVOUUZJ"
      },
      "execution_count": null,
      "outputs": []
    },
    {
      "cell_type": "code",
      "source": [
        "df_2021_nba[\"fantasy_week\"] = pd.cut(df_2021_nba.date,all_intervals)\n",
        "bucket_dict = {week:val+1 for val,week in enumerate(df_2021_nba.fantasy_week.unique())}\n",
        "df_2021_nba[\"week_bucket\"] = df_2021_nba.fantasy_week.map(bucket_dict)\n",
        "df_2021_nba.dropna(subset=[\"fantasy_week\"],inplace=True)\n",
        "# df_2020_nba[\"fantasy_week\"] = pd.cut(df_2020_nba.date,all_intervals_20)\n",
        "# bucket_dict_20 = {week:val+1 for val,week in enumerate(df_2020_nba.fantasy_week.unique())}\n",
        "# df_2020_nba[\"week_bucket\"] = df_2020_nba.fantasy_week.map(bucket_dict_20)\n",
        "# df_2020_nba.dropna(subset=[\"fantasy_week\"],inplace=True)"
      ],
      "metadata": {
        "id": "nE2qSsosa8Ti"
      },
      "execution_count": 37,
      "outputs": []
    },
    {
      "cell_type": "code",
      "source": [
        "design_data_frame(df_2021_nba)\n",
        "# design_data_frame(df_2020_nba)"
      ],
      "metadata": {
        "colab": {
          "base_uri": "https://localhost:8080/",
          "height": 514
        },
        "id": "VUkxkBf7de0J",
        "outputId": "4f4f5c62-c0ca-4e89-f04b-ef76d8ac2b8e"
      },
      "execution_count": 41,
      "outputs": [
        {
          "output_type": "error",
          "ename": "KeyError",
          "evalue": "ignored",
          "traceback": [
            "\u001b[0;31m---------------------------------------------------------------------------\u001b[0m",
            "\u001b[0;31mKeyError\u001b[0m                                  Traceback (most recent call last)",
            "\u001b[0;32m/usr/local/lib/python3.7/dist-packages/pandas/core/indexes/base.py\u001b[0m in \u001b[0;36mget_loc\u001b[0;34m(self, key, method, tolerance)\u001b[0m\n\u001b[1;32m   3360\u001b[0m             \u001b[0;32mtry\u001b[0m\u001b[0;34m:\u001b[0m\u001b[0;34m\u001b[0m\u001b[0;34m\u001b[0m\u001b[0m\n\u001b[0;32m-> 3361\u001b[0;31m                 \u001b[0;32mreturn\u001b[0m \u001b[0mself\u001b[0m\u001b[0;34m.\u001b[0m\u001b[0m_engine\u001b[0m\u001b[0;34m.\u001b[0m\u001b[0mget_loc\u001b[0m\u001b[0;34m(\u001b[0m\u001b[0mcasted_key\u001b[0m\u001b[0;34m)\u001b[0m\u001b[0;34m\u001b[0m\u001b[0;34m\u001b[0m\u001b[0m\n\u001b[0m\u001b[1;32m   3362\u001b[0m             \u001b[0;32mexcept\u001b[0m \u001b[0mKeyError\u001b[0m \u001b[0;32mas\u001b[0m \u001b[0merr\u001b[0m\u001b[0;34m:\u001b[0m\u001b[0;34m\u001b[0m\u001b[0;34m\u001b[0m\u001b[0m\n",
            "\u001b[0;32m/usr/local/lib/python3.7/dist-packages/pandas/_libs/index.pyx\u001b[0m in \u001b[0;36mpandas._libs.index.IndexEngine.get_loc\u001b[0;34m()\u001b[0m\n",
            "\u001b[0;32m/usr/local/lib/python3.7/dist-packages/pandas/_libs/index.pyx\u001b[0m in \u001b[0;36mpandas._libs.index.IndexEngine.get_loc\u001b[0;34m()\u001b[0m\n",
            "\u001b[0;32mpandas/_libs/hashtable_class_helper.pxi\u001b[0m in \u001b[0;36mpandas._libs.hashtable.PyObjectHashTable.get_item\u001b[0;34m()\u001b[0m\n",
            "\u001b[0;32mpandas/_libs/hashtable_class_helper.pxi\u001b[0m in \u001b[0;36mpandas._libs.hashtable.PyObjectHashTable.get_item\u001b[0;34m()\u001b[0m\n",
            "\u001b[0;31mKeyError\u001b[0m: 'player first_name'",
            "\nThe above exception was the direct cause of the following exception:\n",
            "\u001b[0;31mKeyError\u001b[0m                                  Traceback (most recent call last)",
            "\u001b[0;32m<ipython-input-41-f8552f2839d7>\u001b[0m in \u001b[0;36m<module>\u001b[0;34m()\u001b[0m\n\u001b[0;32m----> 1\u001b[0;31m \u001b[0mdesign_data_frame\u001b[0m\u001b[0;34m(\u001b[0m\u001b[0mdf_2021_nba\u001b[0m\u001b[0;34m)\u001b[0m\u001b[0;34m\u001b[0m\u001b[0;34m\u001b[0m\u001b[0m\n\u001b[0m\u001b[1;32m      2\u001b[0m \u001b[0;31m# design_data_frame(df_2020_nba)\u001b[0m\u001b[0;34m\u001b[0m\u001b[0;34m\u001b[0m\u001b[0;34m\u001b[0m\u001b[0m\n",
            "\u001b[0;32m<ipython-input-39-1d6cdce77e10>\u001b[0m in \u001b[0;36mdesign_data_frame\u001b[0;34m(df)\u001b[0m\n\u001b[1;32m     13\u001b[0m              \u001b[0;34m\"player_field_three_pointers_attempted\"\u001b[0m\u001b[0;34m,\u001b[0m\u001b[0;34m\"player_free_throw_percentage\"\u001b[0m\u001b[0;34m,\u001b[0m\u001b[0;34m\"player_field_goals_percentage\"\u001b[0m\u001b[0;34m,\u001b[0m\u001b[0;34m\u001b[0m\u001b[0;34m\u001b[0m\u001b[0m\n\u001b[1;32m     14\u001b[0m              \"player first_name\",\"player last_name\"]\n\u001b[0;32m---> 15\u001b[0;31m   \u001b[0mdf\u001b[0m\u001b[0;34m[\u001b[0m\u001b[0;34m\"name\"\u001b[0m\u001b[0;34m]\u001b[0m \u001b[0;34m=\u001b[0m \u001b[0mdf\u001b[0m\u001b[0;34m[\u001b[0m\u001b[0;34m\"player first_name\"\u001b[0m\u001b[0;34m]\u001b[0m\u001b[0;34m.\u001b[0m\u001b[0mastype\u001b[0m\u001b[0;34m(\u001b[0m\u001b[0mstr\u001b[0m\u001b[0;34m)\u001b[0m \u001b[0;34m+\u001b[0m \u001b[0;34m\" \"\u001b[0m \u001b[0;34m+\u001b[0m \u001b[0mdf_2021_nba\u001b[0m\u001b[0;34m[\u001b[0m\u001b[0;34m\"player last_name\"\u001b[0m\u001b[0;34m]\u001b[0m\u001b[0;34m.\u001b[0m\u001b[0mastype\u001b[0m\u001b[0;34m(\u001b[0m\u001b[0mstr\u001b[0m\u001b[0;34m)\u001b[0m\u001b[0;34m\u001b[0m\u001b[0;34m\u001b[0m\u001b[0m\n\u001b[0m\u001b[1;32m     16\u001b[0m   \u001b[0mdf\u001b[0m\u001b[0;34m.\u001b[0m\u001b[0mdrop\u001b[0m\u001b[0;34m(\u001b[0m\u001b[0mcolumns\u001b[0m \u001b[0;34m=\u001b[0m \u001b[0mto_drop\u001b[0m\u001b[0;34m,\u001b[0m\u001b[0minplace\u001b[0m\u001b[0;34m=\u001b[0m\u001b[0;32mTrue\u001b[0m\u001b[0;34m)\u001b[0m\u001b[0;34m\u001b[0m\u001b[0;34m\u001b[0m\u001b[0m\n\u001b[1;32m     17\u001b[0m \u001b[0;34m\u001b[0m\u001b[0m\n",
            "\u001b[0;32m/usr/local/lib/python3.7/dist-packages/pandas/core/frame.py\u001b[0m in \u001b[0;36m__getitem__\u001b[0;34m(self, key)\u001b[0m\n\u001b[1;32m   3456\u001b[0m             \u001b[0;32mif\u001b[0m \u001b[0mself\u001b[0m\u001b[0;34m.\u001b[0m\u001b[0mcolumns\u001b[0m\u001b[0;34m.\u001b[0m\u001b[0mnlevels\u001b[0m \u001b[0;34m>\u001b[0m \u001b[0;36m1\u001b[0m\u001b[0;34m:\u001b[0m\u001b[0;34m\u001b[0m\u001b[0;34m\u001b[0m\u001b[0m\n\u001b[1;32m   3457\u001b[0m                 \u001b[0;32mreturn\u001b[0m \u001b[0mself\u001b[0m\u001b[0;34m.\u001b[0m\u001b[0m_getitem_multilevel\u001b[0m\u001b[0;34m(\u001b[0m\u001b[0mkey\u001b[0m\u001b[0;34m)\u001b[0m\u001b[0;34m\u001b[0m\u001b[0;34m\u001b[0m\u001b[0m\n\u001b[0;32m-> 3458\u001b[0;31m             \u001b[0mindexer\u001b[0m \u001b[0;34m=\u001b[0m \u001b[0mself\u001b[0m\u001b[0;34m.\u001b[0m\u001b[0mcolumns\u001b[0m\u001b[0;34m.\u001b[0m\u001b[0mget_loc\u001b[0m\u001b[0;34m(\u001b[0m\u001b[0mkey\u001b[0m\u001b[0;34m)\u001b[0m\u001b[0;34m\u001b[0m\u001b[0;34m\u001b[0m\u001b[0m\n\u001b[0m\u001b[1;32m   3459\u001b[0m             \u001b[0;32mif\u001b[0m \u001b[0mis_integer\u001b[0m\u001b[0;34m(\u001b[0m\u001b[0mindexer\u001b[0m\u001b[0;34m)\u001b[0m\u001b[0;34m:\u001b[0m\u001b[0;34m\u001b[0m\u001b[0;34m\u001b[0m\u001b[0m\n\u001b[1;32m   3460\u001b[0m                 \u001b[0mindexer\u001b[0m \u001b[0;34m=\u001b[0m \u001b[0;34m[\u001b[0m\u001b[0mindexer\u001b[0m\u001b[0;34m]\u001b[0m\u001b[0;34m\u001b[0m\u001b[0;34m\u001b[0m\u001b[0m\n",
            "\u001b[0;32m/usr/local/lib/python3.7/dist-packages/pandas/core/indexes/base.py\u001b[0m in \u001b[0;36mget_loc\u001b[0;34m(self, key, method, tolerance)\u001b[0m\n\u001b[1;32m   3361\u001b[0m                 \u001b[0;32mreturn\u001b[0m \u001b[0mself\u001b[0m\u001b[0;34m.\u001b[0m\u001b[0m_engine\u001b[0m\u001b[0;34m.\u001b[0m\u001b[0mget_loc\u001b[0m\u001b[0;34m(\u001b[0m\u001b[0mcasted_key\u001b[0m\u001b[0;34m)\u001b[0m\u001b[0;34m\u001b[0m\u001b[0;34m\u001b[0m\u001b[0m\n\u001b[1;32m   3362\u001b[0m             \u001b[0;32mexcept\u001b[0m \u001b[0mKeyError\u001b[0m \u001b[0;32mas\u001b[0m \u001b[0merr\u001b[0m\u001b[0;34m:\u001b[0m\u001b[0;34m\u001b[0m\u001b[0;34m\u001b[0m\u001b[0m\n\u001b[0;32m-> 3363\u001b[0;31m                 \u001b[0;32mraise\u001b[0m \u001b[0mKeyError\u001b[0m\u001b[0;34m(\u001b[0m\u001b[0mkey\u001b[0m\u001b[0;34m)\u001b[0m \u001b[0;32mfrom\u001b[0m \u001b[0merr\u001b[0m\u001b[0;34m\u001b[0m\u001b[0;34m\u001b[0m\u001b[0m\n\u001b[0m\u001b[1;32m   3364\u001b[0m \u001b[0;34m\u001b[0m\u001b[0m\n\u001b[1;32m   3365\u001b[0m         \u001b[0;32mif\u001b[0m \u001b[0mis_scalar\u001b[0m\u001b[0;34m(\u001b[0m\u001b[0mkey\u001b[0m\u001b[0;34m)\u001b[0m \u001b[0;32mand\u001b[0m \u001b[0misna\u001b[0m\u001b[0;34m(\u001b[0m\u001b[0mkey\u001b[0m\u001b[0;34m)\u001b[0m \u001b[0;32mand\u001b[0m \u001b[0;32mnot\u001b[0m \u001b[0mself\u001b[0m\u001b[0;34m.\u001b[0m\u001b[0mhasnans\u001b[0m\u001b[0;34m:\u001b[0m\u001b[0;34m\u001b[0m\u001b[0;34m\u001b[0m\u001b[0m\n",
            "\u001b[0;31mKeyError\u001b[0m: 'player first_name'"
          ]
        }
      ]
    },
    {
      "cell_type": "code",
      "source": [
        "guards = df_2021_nba[(df_2021_nba[\"player position\"] != \"c\") & (df_2021_nba[\"player position\"] != \"F-C\") & (df_2021_nba[\"player position\"] != \"F\") & (df_2021_nba[\"player position\"] != \"C\") & (df_2021_nba[\"player position\"] != \"C-F\") & (df_2021_nba[\"player position\"].notnull())]\n",
        "forwards = df_2021_nba[(df_2021_nba[\"player position\"] != \"G\") & (df_2021_nba[\"player position\"] != \"C\") & (df_2021_nba[\"player position\"].notnull())]\n",
        "centers = df_2021_nba[(df_2021_nba[\"player position\"] != \"G\") & (df_2021_nba[\"player position\"] != \"F\") & (df_2021_nba[\"player position\"] != \"F-G\") & (df_2021_nba[\"player position\"] != \"G-F\") & (df_2021_nba[\"player position\"].notnull())]"
      ],
      "metadata": {
        "id": "zt8Rib0NuCj-"
      },
      "execution_count": null,
      "outputs": []
    },
    {
      "cell_type": "code",
      "source": [
        "agg_stat = calculate_data(df_2021_nba)\n",
        "perc_cdf = agg_stat[[\"fg_perc\",\"ft_perc\"]].apply(cdf_per_col,axis=0)\n",
        "perc_cdf_expand = perc_cdf.explode(list(perc_cdf.columns)).set_index(agg_stat.index.get_level_values(1),append=True)\n",
        "new_idx = [(i+1,name)for i,name in perc_cdf_expand.index]\n",
        "perc_cdf_expand.index = pd.MultiIndex.from_tuples(new_idx)\n",
        "final_agg = precentages_dat(agg_stat,perc_cdf_expand)\n",
        "norm_final_agg = normalized_df(final_agg, [\"fg_perc\",\"player_field_goal_attempts\",\"ft_perc\",\"player_free_throws_attempted\",\"player_field_goal_made\",\"player_free_throws_made\"])\n",
        "final_rating = by_time_rating(norm_final_agg,\"y\")\n",
        "\n",
        "# agg_stat_20 = calculate_data(df_2020_nba)\n",
        "# agg_stat_guards = calculate_data(guards)\n",
        "# agg_stat_forwards = calculate_data(forwards)\n",
        "# agg_stat_centers = calculate_data(centers)"
      ],
      "metadata": {
        "id": "Xp60kJCVpk7e"
      },
      "execution_count": null,
      "outputs": []
    },
    {
      "cell_type": "code",
      "source": [
        "(perc_cdf_expand.loc[11]).min()"
      ],
      "metadata": {
        "colab": {
          "base_uri": "https://localhost:8080/"
        },
        "id": "FJwQQcdopegN",
        "outputId": "8fd99f8c-9fd2-414d-82d9-cdb748acf69f"
      },
      "execution_count": 96,
      "outputs": [
        {
          "output_type": "execute_result",
          "data": {
            "text/plain": [
              "fg_perc     0.374\n",
              "ft_perc    0.5345\n",
              "dtype: object"
            ]
          },
          "metadata": {},
          "execution_count": 96
        }
      ]
    },
    {
      "cell_type": "code",
      "source": [
        "agg_stat.fg_perc.loc[11].quantile(0.65)"
      ],
      "metadata": {
        "colab": {
          "base_uri": "https://localhost:8080/"
        },
        "id": "ks83n9oVqBAv",
        "outputId": "faddb37e-d93d-4f5f-d0c6-7dcbe9486574"
      },
      "execution_count": 101,
      "outputs": [
        {
          "output_type": "execute_result",
          "data": {
            "text/plain": [
              "44.0"
            ]
          },
          "metadata": {},
          "execution_count": 101
        }
      ]
    },
    {
      "cell_type": "code",
      "source": [
        "by_time_rating(norm_final_agg,\"w\")"
      ],
      "metadata": {
        "id": "a0qd8eZ8laB-",
        "colab": {
          "base_uri": "https://localhost:8080/"
        },
        "outputId": "a1d7b2d5-3b75-4481-ca7d-04f52a04c124"
      },
      "execution_count": 60,
      "outputs": [
        {
          "output_type": "stream",
          "name": "stdout",
          "text": [
            "week_bucket  name           \n",
            "1            Aaron Gordon       20.564026\n",
            "             Aaron Henry        13.392478\n",
            "             Aaron Holiday      17.217339\n",
            "             Aaron Nesmith      16.805788\n",
            "             Aaron Wiggins      15.780053\n",
            "                                  ...    \n",
            "23           Zeke Nnaji         14.228962\n",
            "             Ziaire Williams    23.136981\n",
            "             Zion Williamson    14.228962\n",
            "             Zylan Cheatham     14.228962\n",
            "             nan nan            14.228962\n",
            "Length: 14329, dtype: float64\n"
          ]
        },
        {
          "output_type": "execute_result",
          "data": {
            "text/plain": [
              "week_bucket  name                   \n",
              "11           LeBron James               79.022003\n",
              "5            Jayson Tatum               68.168758\n",
              "4            Stephen Curry              67.521776\n",
              "10           Shai Gilgeous-Alexander    67.108268\n",
              "1            Julius Randle              66.103224\n",
              "                                          ...    \n",
              "17           Romeo Langford             11.199532\n",
              "19           Kyle Guy                   11.197660\n",
              "18           Skylar Mays                11.151873\n",
              "16           Davis Bertans              11.113897\n",
              "7            Taj Gibson                 10.974549\n",
              "Length: 14329, dtype: float64"
            ]
          },
          "metadata": {},
          "execution_count": 60
        }
      ]
    },
    {
      "cell_type": "code",
      "source": [
        "# drop_normalized = [\"fg_perc\",\"ft_perc\",\"player_field_goal_made\",\"player_free_throws_made\"]\n",
        "# to_normalize = agg_stat.groupby(level=0).max()\n",
        "# agg_stat.turnover = to_normalize.turnover-agg_stat.turnover\n",
        "# normalized = agg_stat.div(to_normalize,level = 0)\n",
        "# normalized = normalized*100\n",
        "# normalized[\"field_goal\"] = (normalized[\"fg_perc\"] + normalized[\"player_field_goal_made\"])/2\n",
        "# normalized[\"free_throw\"] = (normalized[\"ft_perc\"] + normalized[\"player_free_throws_made\"])/2\n",
        "# normalized = normalized.drop(columns = drop_normalized)\n",
        "# week_rating = normalized.mean(axis=1)\n",
        "# free_throw = normalized.mean(level = 1)\n",
        "# free_throw.free_throw.nlargest(10)\n"
      ],
      "metadata": {
        "colab": {
          "base_uri": "https://localhost:8080/",
          "height": 206
        },
        "id": "fRV9F_6Y9OhI",
        "outputId": "e3923eba-7af6-4fc4-f47a-1d19839edf03"
      },
      "execution_count": null,
      "outputs": [
        {
          "output_type": "error",
          "ename": "NameError",
          "evalue": "ignored",
          "traceback": [
            "\u001b[0;31m---------------------------------------------------------------------------\u001b[0m",
            "\u001b[0;31mNameError\u001b[0m                                 Traceback (most recent call last)",
            "\u001b[0;32m<ipython-input-42-ea96eb166841>\u001b[0m in \u001b[0;36m<module>\u001b[0;34m()\u001b[0m\n\u001b[1;32m     10\u001b[0m \u001b[0;31m# free_throw = normalized.mean(level = 1)\u001b[0m\u001b[0;34m\u001b[0m\u001b[0;34m\u001b[0m\u001b[0;34m\u001b[0m\u001b[0m\n\u001b[1;32m     11\u001b[0m \u001b[0;31m# free_throw.free_throw.nlargest(10)\u001b[0m\u001b[0;34m\u001b[0m\u001b[0;34m\u001b[0m\u001b[0;34m\u001b[0m\u001b[0m\n\u001b[0;32m---> 12\u001b[0;31m \u001b[0mfinal_agg\u001b[0m\u001b[0;34m\u001b[0m\u001b[0;34m\u001b[0m\u001b[0m\n\u001b[0m",
            "\u001b[0;31mNameError\u001b[0m: name 'final_agg' is not defined"
          ]
        }
      ]
    },
    {
      "cell_type": "code",
      "source": [
        "norm_final_agg.loc[11,\"Nikola Jokic\"]"
      ],
      "metadata": {
        "colab": {
          "base_uri": "https://localhost:8080/"
        },
        "id": "PraTVx1ykOfn",
        "outputId": "2ec5ecdd-6435-4fe6-c062-0b55283c71ad"
      },
      "execution_count": 93,
      "outputs": [
        {
          "output_type": "execute_result",
          "data": {
            "text/plain": [
              "player_assists                           50.0\n",
              "player_blocks                       27.272727\n",
              "player_field_three_pointers_made     4.761905\n",
              "player_points                       56.521739\n",
              "player_rebounds                     69.230769\n",
              "player_steals                            40.0\n",
              "turnover                                 40.0\n",
              "field_goal_rating                   58.724596\n",
              "free_throws_rating                  69.666348\n",
              "Name: (11, Nikola Jokic), dtype: object"
            ]
          },
          "metadata": {},
          "execution_count": 93
        }
      ]
    },
    {
      "cell_type": "code",
      "source": [
        "week_rating_overall = normalized_df(agg_stat)\n",
        "week_rating_overall_20 = normalized_df(agg_stat_20)\n",
        "week_rating_guards = normalized_df(agg_stat_guards)\n",
        "week_rating_forwards = normalized_df(agg_stat_forwards)\n",
        "week_rating_centers = normalized_df(agg_stat_centers)"
      ],
      "metadata": {
        "id": "gANeO4YzzLmL"
      },
      "execution_count": null,
      "outputs": []
    },
    {
      "cell_type": "code",
      "source": [
        "week_rating_overall"
      ],
      "metadata": {
        "colab": {
          "base_uri": "https://localhost:8080/"
        },
        "id": "y6AUCoIG9stE",
        "outputId": "874c47b4-3e32-4fe5-8dce-bed9d43e66c9"
      },
      "execution_count": null,
      "outputs": [
        {
          "output_type": "execute_result",
          "data": {
            "text/plain": [
              "week_bucket  name           \n",
              "1            Aaron Gordon       22.485952\n",
              "             Aaron Henry         0.000000\n",
              "             Aaron Holiday      15.168482\n",
              "             Aaron Nesmith       3.855755\n",
              "             Aaron Wiggins       0.000000\n",
              "                                  ...    \n",
              "23           Zeke Nnaji          0.000000\n",
              "             Ziaire Williams    19.134045\n",
              "             Zion Williamson     0.000000\n",
              "             Zylan Cheatham      0.000000\n",
              "             nan nan             0.000000\n",
              "Length: 14329, dtype: float64"
            ]
          },
          "metadata": {},
          "execution_count": 17
        }
      ]
    },
    {
      "cell_type": "code",
      "source": [
        "naive_rating_overall = yearly_rating(week_rating_overall)\n",
        "naive_rating_overall_20 = yearly_rating(week_rating_overall_20)\n",
        "naive_rating_guards = yearly_rating(week_rating_guards)\n",
        "naive_rating_forwards = yearly_rating(week_rating_forwards)\n",
        "naive_rating_centers = yearly_rating(week_rating_centers)"
      ],
      "metadata": {
        "id": "afthBN4j73VD"
      },
      "execution_count": null,
      "outputs": []
    },
    {
      "cell_type": "code",
      "source": [
        "naive_rating_guards.nlargest(10)"
      ],
      "metadata": {
        "colab": {
          "base_uri": "https://localhost:8080/"
        },
        "id": "AzqXX0lt-f-e",
        "outputId": "6e32bb18-644a-4019-8dfe-c19ac4f32982"
      },
      "execution_count": null,
      "outputs": [
        {
          "output_type": "execute_result",
          "data": {
            "text/plain": [
              "name\n",
              "Dejounte Murray      49.144536\n",
              "Trae Young           47.831503\n",
              "LaMelo Ball          47.813680\n",
              "Luka Doncic          47.703421\n",
              "James Harden         46.911804\n",
              "Stephen Curry        46.224268\n",
              "Tyrese Haliburton    46.060438\n",
              "DeMar DeRozan        45.551952\n",
              "Fred VanVleet        45.319963\n",
              "Anthony Edwards      44.957318\n",
              "dtype: float64"
            ]
          },
          "metadata": {},
          "execution_count": 19
        }
      ]
    },
    {
      "cell_type": "code",
      "source": [
        "# display(naive_rating.to_string())\n",
        "# game_sim\n",
        "naive_rating_overall_20.nlargest(20)"
      ],
      "metadata": {
        "colab": {
          "base_uri": "https://localhost:8080/"
        },
        "id": "EsRjAPboDKFJ",
        "outputId": "d296f5b1-6d71-41a8-bcce-452c11c3f2fe"
      },
      "execution_count": null,
      "outputs": [
        {
          "output_type": "execute_result",
          "data": {
            "text/plain": [
              "name\n",
              "Nikola Jokic             51.577663\n",
              "Nikola Vucevic           47.727391\n",
              "Stephen Curry            47.720752\n",
              "Damian Lillard           46.835031\n",
              "Luka Doncic              45.373436\n",
              "Julius Randle            44.734123\n",
              "Jayson Tatum             43.881674\n",
              "Giannis Antetokounmpo    43.747874\n",
              "Rudy Gobert              43.190608\n",
              "Russell Westbrook        42.648881\n",
              "Chris Paul               42.579054\n",
              "Bradley Beal             42.396376\n",
              "Terry Rozier             42.153590\n",
              "Kyrie Irving             40.862995\n",
              "Khris Middleton          40.708104\n",
              "Trae Young               40.424762\n",
              "Buddy Hield              40.335912\n",
              "Joel Embiid              40.284732\n",
              "Bam Adebayo              40.238458\n",
              "Fred VanVleet            40.104361\n",
              "dtype: float64"
            ]
          },
          "metadata": {},
          "execution_count": 20
        }
      ]
    },
    {
      "cell_type": "markdown",
      "source": [
        "single player simulation"
      ],
      "metadata": {
        "id": "mCQV4U6Zumt1"
      }
    },
    {
      "cell_type": "code",
      "source": [
        "# game_sim = agg_stat.drop(columns = [\"player_field_goal_made\", \"player_free_throws_made\"])\n",
        "# game_sim.reset_index(level='name', inplace=True)\n",
        "# cartesian_product_game_sim = game_sim.assign(key=1).merge(game_sim.assign(key=1), how='left', on = ['key', 'week_bucket'])\n",
        "# cartesian_product_game_sim = cartesian_product_game_sim.loc[cartesian_product_game_sim[\"name_x\"] != cartesian_product_game_sim[\"name_y\"]]"
      ],
      "metadata": {
        "id": "yeGdE3f_rlyw"
      },
      "execution_count": null,
      "outputs": []
    },
    {
      "cell_type": "code",
      "source": [
        "# cartesian_product_game_sim"
      ],
      "metadata": {
        "id": "tjAAemeH9aOg"
      },
      "execution_count": null,
      "outputs": []
    },
    {
      "cell_type": "code",
      "source": [
        "# def individual_fantasy(df):\n",
        "#   df[\"assists_x_won\"] = df[[\"player_assists_x\",\"player_assists_y\"]].apply(lambda x : 1 if x.player_assists_x > x.player_assists_y else 0 if x.player_assists_x < x.player_assists_y else 0.5,axis=1)\n",
        "#   df[\"blocks_x_won\"] = df[[\"player_blocks_x\",\"player_blocks_y\"]].apply(lambda x : 1 if x.player_blocks_x > x.player_blocks_y else 0 if x.player_blocks_x < x.player_blocks_y else 0.5,axis=1)\n",
        "#   df[\"three_points_x_won\"] = df[[\"player_field_three_pointers_made_x\",\"player_field_three_pointers_made_y\"]].apply(lambda x : 1 if x.player_field_three_pointers_made_x > x.player_field_three_pointers_made_y else 0 if x.player_field_three_pointers_made_x < x.player_field_three_pointers_made_y else 0.5,axis=1)\n",
        "#   df[\"points_x_won\"] = df[[\"player_points_x\",\"player_points_y\"]].apply(lambda x : 1 if x.player_points_x > x.player_points_y else 0 if x.player_points_x < x.player_points_y else 0.5,axis=1)\n",
        "#   df[\"rebounds_x_won\"] = df[[\"player_rebounds_x\",\"player_rebounds_y\"]].apply(lambda x : 1 if x.player_rebounds_x > x.player_rebounds_y else 0 if x.player_rebounds_x < x.player_rebounds_y else 0.5,axis=1)\n",
        "#   df[\"steals_x_won\"] = df[[\"player_steals_x\",\"player_steals_y\"]].apply(lambda x : 1 if x.player_steals_x > x.player_steals_y else 0 if x.player_steals_x < x.player_steals_y else 0.5,axis=1)\n",
        "#   df[\"turnover_x_won\"] = df[[\"turnover_x\",\"turnover_y\"]].apply(lambda x : 1 if x.turnover_x < x.turnover_y else 0 if x.turnover_x > x.turnover_y else 0.5,axis=1)\n",
        "#   df[\"fg_perc_x_won\"] = df[[\"fg_perc_x\",\"fg_perc_y\"]].apply(lambda x : 1 if x.fg_perc_x > x.fg_perc_y else 0 if x.fg_perc_x < x.fg_perc_y else 0.5,axis=1)\n",
        "#   df[\"ft_x_won\"] = df[[\"ft_perc_x\",\"ft_perc_y\"]].apply(lambda x : 1 if x.ft_perc_x > x.ft_perc_y else 0 if x.ft_perc_x < x.ft_perc_y else 0.5,axis=1)\n",
        "#   return df"
      ],
      "metadata": {
        "id": "R5_5OguRTSqu"
      },
      "execution_count": null,
      "outputs": []
    },
    {
      "cell_type": "code",
      "source": [
        "# gili_sim = individual_fantasy(cartesian_product_game_sim)"
      ],
      "metadata": {
        "id": "KDAbvFKAfr8V"
      },
      "execution_count": null,
      "outputs": []
    },
    {
      "cell_type": "code",
      "source": [
        "# gil_sim = gili_sim.get(['name_x','assists_x_won','blocks_x_won', 'three_points_x_won','points_x_won','rebounds_x_won','steals_x_won','turnover_x_won','fg_perc_x_won','ft_x_won'])\n",
        "# gil_sim.set_index('name_x',inplace=True)\n",
        "# gil_sum = gil_sim.sum(axis=1)\n",
        "# individual_fantasy_final = gil_sum.groupby(level =0).agg(np.sum).sort_values(ascending=False)\n",
        "# individual_fantasy_final.nlargest(20)"
      ],
      "metadata": {
        "id": "V0joCiw31N7b"
      },
      "execution_count": null,
      "outputs": []
    },
    {
      "cell_type": "code",
      "source": [
        "elky_mind = ECDF(agg_stat.player_assists)\n",
        "len(elky_mind(agg_stat.player_assists))"
      ],
      "metadata": {
        "id": "Ss01-IfiF7-t",
        "colab": {
          "base_uri": "https://localhost:8080/"
        },
        "outputId": "f77c34e6-9bf0-47fe-8296-3fd8c5bb3f14"
      },
      "execution_count": null,
      "outputs": [
        {
          "output_type": "execute_result",
          "data": {
            "text/plain": [
              "14329"
            ]
          },
          "metadata": {},
          "execution_count": 26
        }
      ]
    },
    {
      "cell_type": "code",
      "source": [
        "ecdf_df = agg_stat.apply(cdf_per_col,axis=0)\n",
        "ecdf_nba = ecdf_df.explode(list(ecdf_df.columns)).set_index(agg_stat.index.get_level_values(1),append=True)\n",
        "ecdf_nba = ecdf_nba.astype(float)\n",
        "# ecdf_nba[\"player_free_throws_made_weight\"] = pd.cut(ecdf_nba.player_free_throws_made,4)\n",
        "# ecdf_nba[\"free_throw\"] = \n",
        "groupby_ft = (ecdf_nba.player_free_throws_made.groupby(level=0)).quantile([0.25,.5,.75,1])\n",
        "# md = pd.qcut(groupby_ft,4,labels=[0,0.3,0.65,1]).astype(float)\n",
        "# fg = pd.qcut(groupby_ft,4,labels=[0,0.3,0.65,1]).astype(int)\n",
        "# ecdf_nba[\"free_throw\"] = ecdf_nba.ft_perc*0.7 + md*0.3\n",
        "# ecdf_nba[\"field_goal\"] = ecdf_nba.fg_perc*0.7 +fg*0.3\n",
        "groupby_ft"
      ],
      "metadata": {
        "id": "1RvEKE1yGwHD",
        "colab": {
          "base_uri": "https://localhost:8080/"
        },
        "outputId": "aae33213-cad8-4fc5-e6e6-7d8a0327ffd0"
      },
      "execution_count": null,
      "outputs": [
        {
          "output_type": "execute_result",
          "data": {
            "text/plain": [
              "0   0.25    0.6132\n",
              "    0.50    0.6132\n",
              "    0.75    0.7592\n",
              "    1.00    1.0000\n",
              "1   0.25    0.5441\n",
              "             ...  \n",
              "21  1.00    1.0000\n",
              "22  0.25    0.5409\n",
              "    0.50    0.5409\n",
              "    0.75    0.7817\n",
              "    1.00    1.0000\n",
              "Name: player_free_throws_made, Length: 92, dtype: float64"
            ]
          },
          "metadata": {},
          "execution_count": 28
        }
      ]
    },
    {
      "cell_type": "code",
      "source": [
        "ecdf_nba.astype(np.float)"
      ],
      "metadata": {
        "id": "1QYT_JtBYfGh",
        "colab": {
          "base_uri": "https://localhost:8080/",
          "height": 712
        },
        "outputId": "d5789538-c077-420d-8a35-ae9013048718"
      },
      "execution_count": null,
      "outputs": [
        {
          "output_type": "stream",
          "name": "stderr",
          "text": [
            "/usr/local/lib/python3.7/dist-packages/ipykernel_launcher.py:1: DeprecationWarning: `np.float` is a deprecated alias for the builtin `float`. To silence this warning, use `float` by itself. Doing this will not modify any behavior and is safe. If you specifically wanted the numpy scalar type, use `np.float64` here.\n",
            "Deprecated in NumPy 1.20; for more details and guidance: https://numpy.org/devdocs/release/1.20.0-notes.html#deprecations\n",
            "  \"\"\"Entry point for launching an IPython kernel.\n"
          ]
        },
        {
          "output_type": "execute_result",
          "data": {
            "text/plain": [
              "                    player_assists  player_blocks  \\\n",
              "   name                                             \n",
              "0  Aaron Gordon             0.8106         0.8411   \n",
              "   Aaron Henry              0.4896         0.7063   \n",
              "   Aaron Holiday            0.6469         0.9117   \n",
              "   Aaron Nesmith            0.6982         0.7063   \n",
              "   Aaron Wiggins            0.4896         0.7063   \n",
              "...                            ...            ...   \n",
              "22 Zeke Nnaji               0.4687         0.6404   \n",
              "   Ziaire Williams          0.7769         0.7961   \n",
              "   Zion Williamson          0.4687         0.6404   \n",
              "   Zylan Cheatham           0.4687         0.6404   \n",
              "   nan nan                  0.4687         0.6404   \n",
              "\n",
              "                    player_field_three_pointers_made  player_field_goal_made  \\\n",
              "   name                                                                        \n",
              "0  Aaron Gordon                               0.6870                  0.7512   \n",
              "   Aaron Henry                                0.5859                  0.4494   \n",
              "   Aaron Holiday                              0.6870                  0.5522   \n",
              "   Aaron Nesmith                              0.5859                  0.4494   \n",
              "   Aaron Wiggins                              0.5859                  0.4494   \n",
              "...                                              ...                     ...   \n",
              "22 Zeke Nnaji                                 0.5506                  0.4270   \n",
              "   Ziaire Williams                            0.6982                  0.7175   \n",
              "   Zion Williamson                            0.5506                  0.4270   \n",
              "   Zylan Cheatham                             0.5506                  0.4270   \n",
              "   nan nan                                    0.5506                  0.4270   \n",
              "\n",
              "                    player_free_throws_made  player_points  player_rebounds  \\\n",
              "   name                                                                       \n",
              "0  Aaron Gordon                      0.7994         0.7335           0.8395   \n",
              "   Aaron Henry                       0.6132         0.4350           0.4398   \n",
              "   Aaron Holiday                     0.7592         0.5538           0.6276   \n",
              "   Aaron Nesmith                     0.6132         0.4350           0.5827   \n",
              "   Aaron Wiggins                     0.6132         0.4350           0.4398   \n",
              "...                                     ...            ...              ...   \n",
              "22 Zeke Nnaji                        0.5409         0.4270           0.4189   \n",
              "   Ziaire Williams                   0.8668         0.7255           0.6758   \n",
              "   Zion Williamson                   0.5409         0.4270           0.4189   \n",
              "   Zylan Cheatham                    0.5409         0.4270           0.4189   \n",
              "   nan nan                           0.5409         0.4270           0.4189   \n",
              "\n",
              "                    player_steals  turnover  fg_perc  ft_perc  \n",
              "   name                                                        \n",
              "0  Aaron Gordon            0.5698    0.9246   0.9470   0.7945  \n",
              "   Aaron Henry             0.5698    0.5072   0.4494   0.6132  \n",
              "   Aaron Holiday           0.5698    0.8010   0.4671   1.0000  \n",
              "   Aaron Nesmith           0.7287    0.6356   0.4494   0.6132  \n",
              "   Aaron Wiggins           0.5698    0.5072   0.4494   0.6132  \n",
              "...                           ...       ...      ...      ...  \n",
              "22 Zeke Nnaji              0.5281    0.4880   0.4270   0.5409  \n",
              "   Ziaire Williams         0.7624    0.6790   0.5939   0.8668  \n",
              "   Zion Williamson         0.5281    0.4880   0.4270   0.5409  \n",
              "   Zylan Cheatham          0.5281    0.4880   0.4270   0.5409  \n",
              "   nan nan                 0.5281    0.4880   0.4270   0.5409  \n",
              "\n",
              "[14329 rows x 11 columns]"
            ],
            "text/html": [
              "\n",
              "  <div id=\"df-885b1a5b-0bba-4e4e-b6e8-6bc66bd0b1e5\">\n",
              "    <div class=\"colab-df-container\">\n",
              "      <div>\n",
              "<style scoped>\n",
              "    .dataframe tbody tr th:only-of-type {\n",
              "        vertical-align: middle;\n",
              "    }\n",
              "\n",
              "    .dataframe tbody tr th {\n",
              "        vertical-align: top;\n",
              "    }\n",
              "\n",
              "    .dataframe thead th {\n",
              "        text-align: right;\n",
              "    }\n",
              "</style>\n",
              "<table border=\"1\" class=\"dataframe\">\n",
              "  <thead>\n",
              "    <tr style=\"text-align: right;\">\n",
              "      <th></th>\n",
              "      <th></th>\n",
              "      <th>player_assists</th>\n",
              "      <th>player_blocks</th>\n",
              "      <th>player_field_three_pointers_made</th>\n",
              "      <th>player_field_goal_made</th>\n",
              "      <th>player_free_throws_made</th>\n",
              "      <th>player_points</th>\n",
              "      <th>player_rebounds</th>\n",
              "      <th>player_steals</th>\n",
              "      <th>turnover</th>\n",
              "      <th>fg_perc</th>\n",
              "      <th>ft_perc</th>\n",
              "    </tr>\n",
              "    <tr>\n",
              "      <th></th>\n",
              "      <th>name</th>\n",
              "      <th></th>\n",
              "      <th></th>\n",
              "      <th></th>\n",
              "      <th></th>\n",
              "      <th></th>\n",
              "      <th></th>\n",
              "      <th></th>\n",
              "      <th></th>\n",
              "      <th></th>\n",
              "      <th></th>\n",
              "      <th></th>\n",
              "    </tr>\n",
              "  </thead>\n",
              "  <tbody>\n",
              "    <tr>\n",
              "      <th rowspan=\"5\" valign=\"top\">0</th>\n",
              "      <th>Aaron Gordon</th>\n",
              "      <td>0.8106</td>\n",
              "      <td>0.8411</td>\n",
              "      <td>0.6870</td>\n",
              "      <td>0.7512</td>\n",
              "      <td>0.7994</td>\n",
              "      <td>0.7335</td>\n",
              "      <td>0.8395</td>\n",
              "      <td>0.5698</td>\n",
              "      <td>0.9246</td>\n",
              "      <td>0.9470</td>\n",
              "      <td>0.7945</td>\n",
              "    </tr>\n",
              "    <tr>\n",
              "      <th>Aaron Henry</th>\n",
              "      <td>0.4896</td>\n",
              "      <td>0.7063</td>\n",
              "      <td>0.5859</td>\n",
              "      <td>0.4494</td>\n",
              "      <td>0.6132</td>\n",
              "      <td>0.4350</td>\n",
              "      <td>0.4398</td>\n",
              "      <td>0.5698</td>\n",
              "      <td>0.5072</td>\n",
              "      <td>0.4494</td>\n",
              "      <td>0.6132</td>\n",
              "    </tr>\n",
              "    <tr>\n",
              "      <th>Aaron Holiday</th>\n",
              "      <td>0.6469</td>\n",
              "      <td>0.9117</td>\n",
              "      <td>0.6870</td>\n",
              "      <td>0.5522</td>\n",
              "      <td>0.7592</td>\n",
              "      <td>0.5538</td>\n",
              "      <td>0.6276</td>\n",
              "      <td>0.5698</td>\n",
              "      <td>0.8010</td>\n",
              "      <td>0.4671</td>\n",
              "      <td>1.0000</td>\n",
              "    </tr>\n",
              "    <tr>\n",
              "      <th>Aaron Nesmith</th>\n",
              "      <td>0.6982</td>\n",
              "      <td>0.7063</td>\n",
              "      <td>0.5859</td>\n",
              "      <td>0.4494</td>\n",
              "      <td>0.6132</td>\n",
              "      <td>0.4350</td>\n",
              "      <td>0.5827</td>\n",
              "      <td>0.7287</td>\n",
              "      <td>0.6356</td>\n",
              "      <td>0.4494</td>\n",
              "      <td>0.6132</td>\n",
              "    </tr>\n",
              "    <tr>\n",
              "      <th>Aaron Wiggins</th>\n",
              "      <td>0.4896</td>\n",
              "      <td>0.7063</td>\n",
              "      <td>0.5859</td>\n",
              "      <td>0.4494</td>\n",
              "      <td>0.6132</td>\n",
              "      <td>0.4350</td>\n",
              "      <td>0.4398</td>\n",
              "      <td>0.5698</td>\n",
              "      <td>0.5072</td>\n",
              "      <td>0.4494</td>\n",
              "      <td>0.6132</td>\n",
              "    </tr>\n",
              "    <tr>\n",
              "      <th>...</th>\n",
              "      <th>...</th>\n",
              "      <td>...</td>\n",
              "      <td>...</td>\n",
              "      <td>...</td>\n",
              "      <td>...</td>\n",
              "      <td>...</td>\n",
              "      <td>...</td>\n",
              "      <td>...</td>\n",
              "      <td>...</td>\n",
              "      <td>...</td>\n",
              "      <td>...</td>\n",
              "      <td>...</td>\n",
              "    </tr>\n",
              "    <tr>\n",
              "      <th rowspan=\"5\" valign=\"top\">22</th>\n",
              "      <th>Zeke Nnaji</th>\n",
              "      <td>0.4687</td>\n",
              "      <td>0.6404</td>\n",
              "      <td>0.5506</td>\n",
              "      <td>0.4270</td>\n",
              "      <td>0.5409</td>\n",
              "      <td>0.4270</td>\n",
              "      <td>0.4189</td>\n",
              "      <td>0.5281</td>\n",
              "      <td>0.4880</td>\n",
              "      <td>0.4270</td>\n",
              "      <td>0.5409</td>\n",
              "    </tr>\n",
              "    <tr>\n",
              "      <th>Ziaire Williams</th>\n",
              "      <td>0.7769</td>\n",
              "      <td>0.7961</td>\n",
              "      <td>0.6982</td>\n",
              "      <td>0.7175</td>\n",
              "      <td>0.8668</td>\n",
              "      <td>0.7255</td>\n",
              "      <td>0.6758</td>\n",
              "      <td>0.7624</td>\n",
              "      <td>0.6790</td>\n",
              "      <td>0.5939</td>\n",
              "      <td>0.8668</td>\n",
              "    </tr>\n",
              "    <tr>\n",
              "      <th>Zion Williamson</th>\n",
              "      <td>0.4687</td>\n",
              "      <td>0.6404</td>\n",
              "      <td>0.5506</td>\n",
              "      <td>0.4270</td>\n",
              "      <td>0.5409</td>\n",
              "      <td>0.4270</td>\n",
              "      <td>0.4189</td>\n",
              "      <td>0.5281</td>\n",
              "      <td>0.4880</td>\n",
              "      <td>0.4270</td>\n",
              "      <td>0.5409</td>\n",
              "    </tr>\n",
              "    <tr>\n",
              "      <th>Zylan Cheatham</th>\n",
              "      <td>0.4687</td>\n",
              "      <td>0.6404</td>\n",
              "      <td>0.5506</td>\n",
              "      <td>0.4270</td>\n",
              "      <td>0.5409</td>\n",
              "      <td>0.4270</td>\n",
              "      <td>0.4189</td>\n",
              "      <td>0.5281</td>\n",
              "      <td>0.4880</td>\n",
              "      <td>0.4270</td>\n",
              "      <td>0.5409</td>\n",
              "    </tr>\n",
              "    <tr>\n",
              "      <th>nan nan</th>\n",
              "      <td>0.4687</td>\n",
              "      <td>0.6404</td>\n",
              "      <td>0.5506</td>\n",
              "      <td>0.4270</td>\n",
              "      <td>0.5409</td>\n",
              "      <td>0.4270</td>\n",
              "      <td>0.4189</td>\n",
              "      <td>0.5281</td>\n",
              "      <td>0.4880</td>\n",
              "      <td>0.4270</td>\n",
              "      <td>0.5409</td>\n",
              "    </tr>\n",
              "  </tbody>\n",
              "</table>\n",
              "<p>14329 rows × 11 columns</p>\n",
              "</div>\n",
              "      <button class=\"colab-df-convert\" onclick=\"convertToInteractive('df-885b1a5b-0bba-4e4e-b6e8-6bc66bd0b1e5')\"\n",
              "              title=\"Convert this dataframe to an interactive table.\"\n",
              "              style=\"display:none;\">\n",
              "        \n",
              "  <svg xmlns=\"http://www.w3.org/2000/svg\" height=\"24px\"viewBox=\"0 0 24 24\"\n",
              "       width=\"24px\">\n",
              "    <path d=\"M0 0h24v24H0V0z\" fill=\"none\"/>\n",
              "    <path d=\"M18.56 5.44l.94 2.06.94-2.06 2.06-.94-2.06-.94-.94-2.06-.94 2.06-2.06.94zm-11 1L8.5 8.5l.94-2.06 2.06-.94-2.06-.94L8.5 2.5l-.94 2.06-2.06.94zm10 10l.94 2.06.94-2.06 2.06-.94-2.06-.94-.94-2.06-.94 2.06-2.06.94z\"/><path d=\"M17.41 7.96l-1.37-1.37c-.4-.4-.92-.59-1.43-.59-.52 0-1.04.2-1.43.59L10.3 9.45l-7.72 7.72c-.78.78-.78 2.05 0 2.83L4 21.41c.39.39.9.59 1.41.59.51 0 1.02-.2 1.41-.59l7.78-7.78 2.81-2.81c.8-.78.8-2.07 0-2.86zM5.41 20L4 18.59l7.72-7.72 1.47 1.35L5.41 20z\"/>\n",
              "  </svg>\n",
              "      </button>\n",
              "      \n",
              "  <style>\n",
              "    .colab-df-container {\n",
              "      display:flex;\n",
              "      flex-wrap:wrap;\n",
              "      gap: 12px;\n",
              "    }\n",
              "\n",
              "    .colab-df-convert {\n",
              "      background-color: #E8F0FE;\n",
              "      border: none;\n",
              "      border-radius: 50%;\n",
              "      cursor: pointer;\n",
              "      display: none;\n",
              "      fill: #1967D2;\n",
              "      height: 32px;\n",
              "      padding: 0 0 0 0;\n",
              "      width: 32px;\n",
              "    }\n",
              "\n",
              "    .colab-df-convert:hover {\n",
              "      background-color: #E2EBFA;\n",
              "      box-shadow: 0px 1px 2px rgba(60, 64, 67, 0.3), 0px 1px 3px 1px rgba(60, 64, 67, 0.15);\n",
              "      fill: #174EA6;\n",
              "    }\n",
              "\n",
              "    [theme=dark] .colab-df-convert {\n",
              "      background-color: #3B4455;\n",
              "      fill: #D2E3FC;\n",
              "    }\n",
              "\n",
              "    [theme=dark] .colab-df-convert:hover {\n",
              "      background-color: #434B5C;\n",
              "      box-shadow: 0px 1px 3px 1px rgba(0, 0, 0, 0.15);\n",
              "      filter: drop-shadow(0px 1px 2px rgba(0, 0, 0, 0.3));\n",
              "      fill: #FFFFFF;\n",
              "    }\n",
              "  </style>\n",
              "\n",
              "      <script>\n",
              "        const buttonEl =\n",
              "          document.querySelector('#df-885b1a5b-0bba-4e4e-b6e8-6bc66bd0b1e5 button.colab-df-convert');\n",
              "        buttonEl.style.display =\n",
              "          google.colab.kernel.accessAllowed ? 'block' : 'none';\n",
              "\n",
              "        async function convertToInteractive(key) {\n",
              "          const element = document.querySelector('#df-885b1a5b-0bba-4e4e-b6e8-6bc66bd0b1e5');\n",
              "          const dataTable =\n",
              "            await google.colab.kernel.invokeFunction('convertToInteractive',\n",
              "                                                     [key], {});\n",
              "          if (!dataTable) return;\n",
              "\n",
              "          const docLinkHtml = 'Like what you see? Visit the ' +\n",
              "            '<a target=\"_blank\" href=https://colab.research.google.com/notebooks/data_table.ipynb>data table notebook</a>'\n",
              "            + ' to learn more about interactive tables.';\n",
              "          element.innerHTML = '';\n",
              "          dataTable['output_type'] = 'display_data';\n",
              "          await google.colab.output.renderOutput(dataTable, element);\n",
              "          const docLink = document.createElement('div');\n",
              "          docLink.innerHTML = docLinkHtml;\n",
              "          element.appendChild(docLink);\n",
              "        }\n",
              "      </script>\n",
              "    </div>\n",
              "  </div>\n",
              "  "
            ]
          },
          "metadata": {},
          "execution_count": 29
        }
      ]
    },
    {
      "cell_type": "code",
      "source": [
        "ecdf = ECDF([1, 2, 3, 4])\n",
        "ecdf([1,2,3,4])"
      ],
      "metadata": {
        "id": "lB-0C0zkTez-",
        "colab": {
          "base_uri": "https://localhost:8080/"
        },
        "outputId": "666b1d4f-beff-4aea-bdd6-4cd8accef7be"
      },
      "execution_count": null,
      "outputs": [
        {
          "output_type": "execute_result",
          "data": {
            "text/plain": [
              "array([0.25, 0.5 , 0.75, 1.  ])"
            ]
          },
          "metadata": {},
          "execution_count": 30
        }
      ]
    }
  ]
}